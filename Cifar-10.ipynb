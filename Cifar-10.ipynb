{
 "cells": [
  {
   "cell_type": "code",
   "execution_count": 1,
   "metadata": {
    "collapsed": true
   },
   "outputs": [],
   "source": [
    "import matplotlib.pyplot as plt\n",
    "import numpy as np\n",
    "import importlib\n",
    "import torch\n",
    "import torchvision\n",
    "\n",
    "import utils\n",
    "import my_nn"
   ]
  },
  {
   "cell_type": "code",
   "execution_count": 2,
   "metadata": {
    "collapsed": true
   },
   "outputs": [],
   "source": [
    "from torch.autograd import Variable\n",
    "import torch.nn as nn\n",
    "import torch.nn.functional as F\n",
    "import torch.optim as optim"
   ]
  },
  {
   "cell_type": "code",
   "execution_count": 8,
   "metadata": {},
   "outputs": [
    {
     "data": {
      "text/plain": [
       "<module 'utils' from 'D:\\\\Resource\\\\Courses\\\\UCSD\\\\2nd_Quarter\\\\253\\\\pa3\\\\utils.py'>"
      ]
     },
     "execution_count": 8,
     "metadata": {},
     "output_type": "execute_result"
    }
   ],
   "source": [
    "#import utils\n",
    "importlib.reload(utils)"
   ]
  },
  {
   "cell_type": "raw",
   "metadata": {},
   "source": []
  },
  {
   "cell_type": "code",
   "execution_count": 3,
   "metadata": {},
   "outputs": [
    {
     "name": "stdout",
     "output_type": "stream",
     "text": [
      "Files already downloaded and verified\n",
      "Files already downloaded and verified\n"
     ]
    }
   ],
   "source": [
    "train, test, classes = utils.load()"
   ]
  },
  {
   "cell_type": "code",
   "execution_count": 77,
   "metadata": {},
   "outputs": [
    {
     "data": {
      "text/plain": [
       "torch.utils.data.dataloader.DataLoader"
      ]
     },
     "execution_count": 77,
     "metadata": {},
     "output_type": "execute_result"
    }
   ],
   "source": [
    "type(train)"
   ]
  },
  {
   "cell_type": "code",
   "execution_count": 22,
   "metadata": {},
   "outputs": [
    {
     "data": {
      "text/plain": [
       "<module 'my_nn' from 'D:\\\\Resource\\\\Courses\\\\UCSD\\\\2nd_Quarter\\\\253\\\\pa3\\\\my_nn.py'>"
      ]
     },
     "execution_count": 22,
     "metadata": {},
     "output_type": "execute_result"
    }
   ],
   "source": [
    "#import my_nn\n",
    "importlib.reload(my_nn)"
   ]
  },
  {
   "cell_type": "code",
   "execution_count": 4,
   "metadata": {
    "collapsed": true
   },
   "outputs": [],
   "source": [
    "model = my_nn.REU()"
   ]
  },
  {
   "cell_type": "code",
   "execution_count": 9,
   "metadata": {
    "collapsed": true
   },
   "outputs": [],
   "source": [
    "fitter = utils.Trainer(model)"
   ]
  },
  {
   "cell_type": "code",
   "execution_count": null,
   "metadata": {
    "collapsed": true
   },
   "outputs": [],
   "source": []
  },
  {
   "cell_type": "code",
   "execution_count": 10,
   "metadata": {},
   "outputs": [
    {
     "name": "stdout",
     "output_type": "stream",
     "text": [
      "================\n",
      "Epoch: 1\n",
      "\n",
      "Epoch 1\tBatch 2000 loss: 1.099\n",
      "Epoch 1\tBatch 4000 loss: 1.118\n",
      "Epoch 1\tBatch 6000 loss: 1.088\n",
      "Epoch 1\tBatch 8000 loss: 1.083\n",
      "Epoch 1\tBatch 10000 loss: 1.120\n",
      "Epoch 1\tBatch 12000 loss: 1.109\n",
      "================\n",
      "Epoch: 2\n",
      "\n",
      "Epoch 2\tBatch 2000 loss: 1.048\n",
      "Epoch 2\tBatch 4000 loss: 1.012\n",
      "Epoch 2\tBatch 6000 loss: 1.059\n",
      "Epoch 2\tBatch 8000 loss: 1.025\n",
      "Epoch 2\tBatch 10000 loss: 1.032\n",
      "Epoch 2\tBatch 12000 loss: 1.046\n",
      "================\n",
      "Epoch: 3\n",
      "\n",
      "Epoch 3\tBatch 2000 loss: 0.950\n",
      "Epoch 3\tBatch 4000 loss: 0.972\n",
      "Epoch 3\tBatch 6000 loss: 0.969\n",
      "Epoch 3\tBatch 8000 loss: 0.993\n",
      "Epoch 3\tBatch 10000 loss: 0.983\n",
      "Epoch 3\tBatch 12000 loss: 1.019\n"
     ]
    },
    {
     "data": {
      "text/plain": [
       "REU (\n",
       "  (conv1): Conv2d(3, 6, kernel_size=(5, 5), stride=(1, 1))\n",
       "  (pool): MaxPool2d (size=(2, 2), stride=(2, 2), dilation=(1, 1))\n",
       "  (conv2): Conv2d(6, 16, kernel_size=(5, 5), stride=(1, 1))\n",
       "  (fc1): Linear (400 -> 120)\n",
       "  (fc2): Linear (120 -> 84)\n",
       "  (fc3): Linear (84 -> 10)\n",
       ")"
      ]
     },
     "execution_count": 10,
     "metadata": {},
     "output_type": "execute_result"
    }
   ],
   "source": [
    "fitter.fit(train)"
   ]
  },
  {
   "cell_type": "code",
   "execution_count": 12,
   "metadata": {},
   "outputs": [],
   "source": [
    "accu, class_accu = fitter.predict(test)"
   ]
  },
  {
   "cell_type": "code",
   "execution_count": 13,
   "metadata": {},
   "outputs": [
    {
     "data": {
      "text/plain": [
       "62.32"
      ]
     },
     "execution_count": 13,
     "metadata": {},
     "output_type": "execute_result"
    }
   ],
   "source": [
    "accu"
   ]
  },
  {
   "cell_type": "code",
   "execution_count": 21,
   "metadata": {},
   "outputs": [
    {
     "name": "stdout",
     "output_type": "stream",
     "text": [
      "plane:\t69.200%\n",
      "car:\t71.800%\n",
      "bird:\t51.400%\n",
      "cat:\t34.000%\n",
      "deer:\t59.700%\n",
      "dog:\t52.900%\n",
      "frog:\t67.700%\n",
      "horse:\t67.400%\n",
      "ship:\t77.900%\n",
      "truck:\t71.200%\n"
     ]
    }
   ],
   "source": [
    "classes = ('plane', 'car', 'bird', 'cat','deer', 'dog', 'frog', 'horse', 'ship', 'truck')\n",
    "for c,a in zip(classes, class_accu):\n",
    "    print(c+':\\t%.3f%%' % a)"
   ]
  },
  {
   "cell_type": "code",
   "execution_count": 22,
   "metadata": {
    "collapsed": true
   },
   "outputs": [],
   "source": [
    "# Save the Trained Model\n",
    "torch.save(model.state_dict(), 'LenNet-5.pkl')"
   ]
  },
  {
   "cell_type": "code",
   "execution_count": null,
   "metadata": {
    "collapsed": true
   },
   "outputs": [],
   "source": []
  }
 ],
 "metadata": {
  "kernelspec": {
   "display_name": "Python 3",
   "language": "python",
   "name": "python3"
  },
  "language_info": {
   "codemirror_mode": {
    "name": "ipython",
    "version": 3
   },
   "file_extension": ".py",
   "mimetype": "text/x-python",
   "name": "python",
   "nbconvert_exporter": "python",
   "pygments_lexer": "ipython3",
   "version": "3.6.1"
  }
 },
 "nbformat": 4,
 "nbformat_minor": 2
}
